{
 "cells": [
  {
   "cell_type": "code",
   "execution_count": 1,
   "metadata": {},
   "outputs": [],
   "source": [
    "#import some libraries\n",
    "#ch ch ch changes\n",
    "\n",
    "import dic\n",
    "import cv2 as cv\n",
    "import numpy as np"
   ]
  },
  {
   "cell_type": "code",
   "execution_count": 2,
   "metadata": {},
   "outputs": [],
   "source": [
    "#load settings and images\n",
    "\n",
    "#load image set from directory\n",
    "image_set = dic.LoadImages()\n",
    "#load settings from text file\n",
    "settings = dic.LoadSettings(image_set)\n",
    "#no of images in directory\n",
    "N_images = len(image_set)"
   ]
  },
  {
   "cell_type": "code",
   "execution_count": 3,
   "metadata": {},
   "outputs": [],
   "source": [
    "#initialise correlation image objects\n",
    "\n",
    "#initialise reference image object\n",
    "F = dic.ReferenceImage(cv.imread(\"images2/{}\".format(image_set[0]),0), settings)\n",
    "#create subsets and initialise SFPs\n",
    "F.CreateSubsets(settings)\n",
    "G = dic.DeformedImage(cv.imread(\"images2/{}\".format(image_set[1]),0), settings)\n",
    "G.InitCorrelationParams(F)"
   ]
  },
  {
   "cell_type": "code",
   "execution_count": 4,
   "metadata": {},
   "outputs": [],
   "source": [
    "#initial estimation of deformed image subset centre coordinates (in the coordinate system of the reference image)\n",
    "\n",
    "#check SF order:\n",
    "if settings[1] == 1:\n",
    "    G.sub_centers[0,:] = F.sub_centers[0,:] + np.round(F.P[0,:])\n",
    "    G.sub_centers[1,:] = F.sub_centers[1,:] + np.round(F.P[3,:])\n",
    "\n",
    "    #initial estimate of the shape function as rigid body translation\n",
    "    G.P[0,:], G.P[3,:] = dic.EstimateDisplacementsFourier(F, G)\n",
    "\n",
    "else:\n",
    "    G.sub_centers[0,:] = F.sub_centers[0,:] + np.round(F.P[0,:])\n",
    "    G.sub_centers[1,:] = F.sub_centers[1,:] + np.round(F.P[6,:])\n",
    "\n",
    "    #initial estimate of the shape function as rigid body translation\n",
    "    G.P[0,:], G.P[6,:] = dic.EstimateDisplacementsFourier(F, G)\n"
   ]
  },
  {
   "cell_type": "code",
   "execution_count": 5,
   "metadata": {},
   "outputs": [
    {
     "name": "stderr",
     "output_type": "stream",
     "text": [
      "c:\\Users\\ed\\Documents\\VSCode\\DIC\\dic.py:718: VisibleDeprecationWarning: Creating an ndarray from ragged nested sequences (which is a list-or-tuple of lists-or-tuples-or ndarrays with different lengths or shapes) is deprecated. If you meant to do this, you must specify 'dtype=object' when creating the ndarray.\n",
      "  w_dP = np.array([\n"
     ]
    }
   ],
   "source": [
    "# run 2D subset-based correlation\n",
    "\n",
    "dic.CorrelateImages(F, G, settings)"
   ]
  },
  {
   "cell_type": "code",
   "execution_count": 6,
   "metadata": {},
   "outputs": [
    {
     "name": "stderr",
     "output_type": "stream",
     "text": [
      "c:\\Users\\ed\\Documents\\VSCode\\DIC\\dic.py:717: VisibleDeprecationWarning: Creating an ndarray from ragged nested sequences (which is a list-or-tuple of lists-or-tuples-or ndarrays with different lengths or shapes) is deprecated. If you meant to do this, you must specify 'dtype=object' when creating the ndarray.\n",
      "  w_dP = np.array([\n"
     ]
    }
   ],
   "source": [
    "# #manually call functions to perform subset correlation\n",
    "# #no of subsets for correlation run\n",
    "# N_subsets = F.sub_centers.shape[1]\n",
    "\n",
    "# #correlate all subsets\n",
    "# for i in range(0,N_subsets):\n",
    "#     f, f_mean, f_tilde, dfdx, dfdy  = dic.RefSubsetInfo(F,i)\n",
    "#     #\n",
    "#     Hess, fgrad_X_dWdP = dic.Hessian(dfdx, dfdy, F)\n",
    "#     #check SF order\n",
    "#     if settings[1] == 1:\n",
    "#         deltaP =  np.ones([6,1])\n",
    "#     else:\n",
    "#         deltaP =  np.ones([12,1])\n",
    "#     itera = 0\n",
    "#     while itera < 100:\n",
    "#         #check SF order\n",
    "#         if settings[1] == 1:\n",
    "#             deformed_subset = dic.AffineTrans(G,i)\n",
    "#         else:\n",
    "#             deformed_subset = dic.NonLinearTrans(G,i)\n",
    "        \n",
    "#         #extract subset from interpolated G\n",
    "#         g, g_mean, g_tilde = dic.DefSubsetInfo(F, G, deformed_subset, i)\n",
    "#         stop_val = dic.StopCriteria(deltaP, 0.5*(G.sub_size-1))\n",
    "#         if stop_val < 1e-4:\n",
    "#             break \n",
    "#         else:\n",
    "#             Jacobian = np.dot(fgrad_X_dWdP.T, (f[:]-f_mean-f_tilde/g_tilde*(g[:]-g_mean)))\n",
    "#             deltaP = np.linalg.solve(-Hess, Jacobian) #-1*np.linalg.inv(Hess)*Jacobian.T\n",
    "#             Pupdate = dic.UpdateSFP(G.P[:,i], deltaP)\n",
    "#             G.P[:,i:i+1] = Pupdate\n",
    "#         itera = itera + 1\n",
    "#     #Zero-Mean Normalised Cross Correlation Criteria\n",
    "#     G.corr_coeff[0,i] = 1 - sum(((f[:]-f_mean)/f_tilde-(g[:]-g_mean)/g_tilde)**2)/2\n",
    "#     G.stop_val[0,i] = stop_val\n",
    "#     G.iterations[0,i]  = itera"
   ]
  },
  {
   "cell_type": "code",
   "execution_count": 7,
   "metadata": {},
   "outputs": [
    {
     "name": "stdout",
     "output_type": "stream",
     "text": [
      "[-6.19467483e-03  1.91465875e-04  1.09004429e-04  4.80500446e-05\n",
      "  1.09105358e-05  9.40563147e-05  4.80515057e-01  4.21774047e-04\n",
      " -5.44777183e-03  4.99575294e-06  7.89688809e-05 -8.42807131e-04]\n"
     ]
    }
   ],
   "source": [
    "print(G.P[:,0])"
   ]
  }
 ],
 "metadata": {
  "kernelspec": {
   "display_name": "Python 3.10.4 ('dic')",
   "language": "python",
   "name": "python3"
  },
  "language_info": {
   "codemirror_mode": {
    "name": "ipython",
    "version": 3
   },
   "file_extension": ".py",
   "mimetype": "text/x-python",
   "name": "python",
   "nbconvert_exporter": "python",
   "pygments_lexer": "ipython3",
   "version": "3.10.4"
  },
  "orig_nbformat": 4,
  "vscode": {
   "interpreter": {
    "hash": "c21f6a2d5e2ebaa2aa2c8f0879a9d30d7c62663c5de039fe11651f9890714b4b"
   }
  }
 },
 "nbformat": 4,
 "nbformat_minor": 2
}
