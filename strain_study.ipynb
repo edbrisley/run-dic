{
 "cells": [
  {
   "cell_type": "code",
   "execution_count": 1,
   "metadata": {},
   "outputs": [
    {
     "ename": "ModuleNotFoundError",
     "evalue": "No module named 'fast_interp'",
     "output_type": "error",
     "traceback": [
      "\u001b[1;31m---------------------------------------------------------------------------\u001b[0m",
      "\u001b[1;31mModuleNotFoundError\u001b[0m                       Traceback (most recent call last)",
      "\u001b[1;32mc:\\Users\\ed\\Downloads\\L_single\\L_single\\github_release\\strain_study.ipynb Cell 1\u001b[0m line \u001b[0;36m2\n\u001b[0;32m      <a href='vscode-notebook-cell:/c%3A/Users/ed/Downloads/L_single/L_single/github_release/strain_study.ipynb#W0sZmlsZQ%3D%3D?line=0'>1</a>\u001b[0m \u001b[39m#import libraries\u001b[39;00m\n\u001b[1;32m----> <a href='vscode-notebook-cell:/c%3A/Users/ed/Downloads/L_single/L_single/github_release/strain_study.ipynb#W0sZmlsZQ%3D%3D?line=1'>2</a>\u001b[0m \u001b[39mimport\u001b[39;00m \u001b[39mrundic\u001b[39;00m \u001b[39mas\u001b[39;00m \u001b[39mrd\u001b[39;00m\n\u001b[0;32m      <a href='vscode-notebook-cell:/c%3A/Users/ed/Downloads/L_single/L_single/github_release/strain_study.ipynb#W0sZmlsZQ%3D%3D?line=2'>3</a>\u001b[0m \u001b[39mimport\u001b[39;00m \u001b[39mnumpy\u001b[39;00m \u001b[39mas\u001b[39;00m \u001b[39mnp\u001b[39;00m\n\u001b[0;32m      <a href='vscode-notebook-cell:/c%3A/Users/ed/Downloads/L_single/L_single/github_release/strain_study.ipynb#W0sZmlsZQ%3D%3D?line=3'>4</a>\u001b[0m \u001b[39mimport\u001b[39;00m \u001b[39mcv2\u001b[39;00m \u001b[39mas\u001b[39;00m \u001b[39mcv\u001b[39;00m\n",
      "File \u001b[1;32mc:\\Users\\ed\\Downloads\\L_single\\L_single\\github_release\\rundic.py:20\u001b[0m\n\u001b[0;32m     18\u001b[0m \u001b[39mimport\u001b[39;00m \u001b[39mos\u001b[39;00m\n\u001b[0;32m     19\u001b[0m \u001b[39mfrom\u001b[39;00m \u001b[39mconfigparser\u001b[39;00m \u001b[39mimport\u001b[39;00m ConfigParser\n\u001b[1;32m---> 20\u001b[0m \u001b[39mfrom\u001b[39;00m \u001b[39mfast_interp\u001b[39;00m \u001b[39mimport\u001b[39;00m interp2d\n\u001b[0;32m     21\u001b[0m \u001b[39mimport\u001b[39;00m \u001b[39mcopy\u001b[39;00m\n\u001b[0;32m     22\u001b[0m \u001b[39mimport\u001b[39;00m \u001b[39mglob\u001b[39;00m\n",
      "\u001b[1;31mModuleNotFoundError\u001b[0m: No module named 'fast_interp'"
     ]
    }
   ],
   "source": [
    "#import libraries\n",
    "import rundic as rd\n",
    "import numpy as np\n",
    "import cv2 as cv\n",
    "import matplotlib.pyplot as plt\n",
    "from scipy.interpolate import griddata\n",
    "from numpy import loadtxt\n",
    "from numpy import NaN"
   ]
  },
  {
   "cell_type": "code",
   "execution_count": 8,
   "metadata": {},
   "outputs": [
    {
     "name": "stdout",
     "output_type": "stream",
     "text": [
      "\n",
      "Initial settings:\n",
      "\n",
      "{'MeasurementType': 'StereoPlanar', 'Discretisation': 'Local', 'StereoImagesFolder0': '../../TENSILE_IMAGES/L', 'StereoImagesFolder1': '../../TENSILE_IMAGES/R', 'InitializeViewMatch': 'Projective', 'RefineViewMatch': 'No', 'CameraNo': 0, 'CalibrationParametersFolder': 'Sample5Calibration', 'SubsetSize': 31, 'DeformationModel': 'Affine', 'StepSize': 3, 'SubsetShape': 'Square', 'ImportMeasurementPointsFromExternal': 'Yes', 'GaussianFilterStdDev': 0.5, 'GaussianFilterSize': 5, 'CorrelationReferenceStrategy': 'Incremental', 'DatumImage': 0, 'TargetImage': 96, 'Increment': 96, 'InterpolateReferenceImage': 'No', 'GNInitialization': 'KeypointDetection'}\n",
      "\n",
      "Stereo images loaded\n",
      "\n",
      "image_set_0:\n",
      "['L0000.png', 'L0001.png', 'L0003.png', 'L0005.png', 'L0007.png', 'L0009.png', 'L0011.png', 'L0013.png', 'L0015.png', 'L0017.png', 'L0019.png', 'L0021.png', 'L0023.png', 'L0025.png', 'L0027.png', 'L0029.png', 'L0031.png', 'L0033.png', 'L0035.png', 'L0037.png', 'L0039.png', 'L0041.png', 'L0043.png', 'L0045.png', 'L0047.png', 'L0049.png', 'L0051.png', 'L0053.png', 'L0055.png', 'L0057.png', 'L0059.png', 'L0061.png', 'L0063.png', 'L0065.png', 'L0067.png', 'L0069.png', 'L0071.png', 'L0073.png', 'L0075.png', 'L0077.png', 'L0079.png', 'L0081.png', 'L0083.png', 'L0085.png', 'L0087.png', 'L0089.png', 'L0091.png', 'L0093.png', 'L0095.png', 'L0097.png', 'L0099.png', 'L0101.png', 'L0103.png', 'L0105.png', 'L0107.png', 'L0109.png', 'L0111.png', 'L0113.png', 'L0115.png', 'L0117.png', 'L0119.png', 'L0121.png', 'L0123.png', 'L0125.png', 'L0127.png', 'L0129.png', 'L0131.png', 'L0133.png', 'L0135.png', 'L0137.png', 'L0139.png', 'L0141.png', 'L0143.png', 'L0145.png', 'L0147.png', 'L0149.png', 'L0151.png', 'L0153.png', 'L0155.png', 'L0157.png', 'L0159.png', 'L0161.png', 'L0163.png', 'L0165.png', 'L0167.png', 'L0169.png', 'L0171.png', 'L0173.png', 'L0175.png', 'L0177.png', 'L0179.png', 'L0181.png', 'L0183.png', 'L0185.png', 'L0187.png', 'L0189.png', 'L1950.png']\n",
      "image_set_1:\n",
      "['R0000.png', 'R0001.png', 'R0003.png', 'R0005.png', 'R0007.png', 'R0009.png', 'R0011.png', 'R0013.png', 'R0015.png', 'R0017.png', 'R0019.png', 'R0021.png', 'R0023.png', 'R0025.png', 'R0027.png', 'R0029.png', 'R0031.png', 'R0033.png', 'R0035.png', 'R0037.png', 'R0039.png', 'R0041.png', 'R0043.png', 'R0045.png', 'R0047.png', 'R0049.png', 'R0051.png', 'R0053.png', 'R0055.png', 'R0057.png', 'R0059.png', 'R0061.png', 'R0063.png', 'R0065.png', 'R0067.png', 'R0069.png', 'R0071.png', 'R0073.png', 'R0075.png', 'R0077.png', 'R0079.png', 'R0081.png', 'R0083.png', 'R0085.png', 'R0087.png', 'R0089.png', 'R0091.png', 'R0093.png', 'R0095.png', 'R0097.png', 'R0099.png', 'R0101.png', 'R0103.png', 'R0105.png', 'R0107.png', 'R0109.png', 'R0111.png', 'R0113.png', 'R0115.png', 'R0117.png', 'R0119.png', 'R0121.png', 'R0123.png', 'R0125.png', 'R0127.png', 'R0129.png', 'R0131.png', 'R0133.png', 'R0135.png', 'R0137.png', 'R0139.png', 'R0141.png', 'R0143.png', 'R0145.png', 'R0147.png', 'R0149.png', 'R0151.png', 'R0153.png', 'R0155.png', 'R0157.png', 'R0159.png', 'R0161.png', 'R0163.png', 'R0165.png', 'R0167.png', 'R0169.png', 'R0171.png', 'R0173.png', 'R0175.png', 'R0177.png', 'R0179.png', 'R0181.png', 'R0183.png', 'R0185.png', 'R0187.png', 'R0189.png', 'R1950.png']\n",
      "\n",
      "sorted image set\n",
      "\n",
      "97\n",
      "\n",
      " 97\n"
     ]
    }
   ],
   "source": [
    "#-------------------------------------------------------------------------------------\n",
    "##load settings and image sets\n",
    "settings = rd.LoadSettings()\n",
    "image_set_0, image_set_1 = rd.LoadStereoImages(settings)\n",
    "\n",
    "\n",
    "print('\\nsorted image set\\n')\n",
    "print(len(image_set_0))\n",
    "print('\\n', len(image_set_1))\n",
    "\n",
    "ROI_0 = (1243, 661, 312, 1178)\n"
   ]
  },
  {
   "cell_type": "code",
   "execution_count": 9,
   "metadata": {},
   "outputs": [
    {
     "name": "stdout",
     "output_type": "stream",
     "text": [
      "\n",
      "no. of image pairs: 1\n",
      "Image pair 0 processed\n",
      "\n",
      "left camera image series correlation complete\n",
      "\n",
      "no. of image pairs: 1\n",
      "Image pair 0 processed\n",
      "\n",
      "right camera image series correlation complete\n"
     ]
    }
   ],
   "source": [
    "#perform planar dic on the left and right image sets\n",
    "coefficients_0, coefficients_1, settings, data = rd.StereoDICPlanar(settings, image_set_0, image_set_1, ROI_0)\n",
    "#load the calibration parameters from directory\n",
    "settings, data = rd.ReadCalibrationParamters(settings, data)\n",
    "#perform stereo triangulation on the reference and deformed coordinates (in the camera CS)\n",
    "settings, data = rd.DepthFromTwoViewsCameraCS(settings, data)\n",
    "#two points on an axis that aligns with the specimen's short axis\n",
    "#used to define local coordinate system\n",
    "xo_local_axis = np.array([[1223, 1542],\n",
    "                            [1488, 1493]]).astype('int')\n",
    "#reference, deformed measuremenet point coordinates and displacements in the locally define CS\n",
    "Xo_w, Xd_w, U_w = rd.BestPlaneFit(settings, data, image_set_0, image_set_1, xo_local_axis)\n",
    "#compute Green-Lagrange strain tensor from the 3D displacements\n",
    "Ex, Ey, Exy = rd.VirtualStrainGauge(settings, Xo_w[0, :], Xo_w[1, :], U_w[0, :], U_w[1, :])"
   ]
  },
  {
   "cell_type": "code",
   "execution_count": null,
   "metadata": {},
   "outputs": [],
   "source": [
    "#pre-process data for plots\n",
    "\n",
    "F = cv.imread('L_images/L0000.png', 0)\n",
    "N_rows = F[600:1900, 1200:1600].shape[0]\n",
    "N_cols = F[600:1900, 1200:1600].shape[1]\n",
    "\n",
    "xo = settings['MeasurementPoints_L0'][0, :]\n",
    "yo = settings['MeasurementPoints_L0'][0, :]\n",
    "N_subsets = xo.shape[0]\n",
    "\n",
    "#structure the results to gird format\n",
    "XY = np.zeros([N_subsets, 2])\n",
    "for i in range(0, N_subsets):\n",
    "    XY[i, :] = (yo[i]-600, xo[i]-1200)\n",
    "grid_x, grid_y = np.mgrid[0:N_cols:1, 0:N_rows:1]\n",
    "\n",
    "\n",
    "invalid_x = loadtxt('invalid_x.csv', delimiter = \",\").astype('int')\n",
    "invalid_y = loadtxt('invalid_y.csv', delimiter = \",\").astype('int')\n",
    "\n",
    "invalid_x = invalid_x +5\n",
    "invalid_y = invalid_y +5\n",
    "\n",
    "invalid_x = invalid_x - 1200\n",
    "invalid_y = invalid_y - 600\n",
    "\n",
    "#linecut x coordinate for plots\n",
    "line_indices = np.where(xo==1287)  \n",
    "y_line = yo[line_indices]"
   ]
  },
  {
   "cell_type": "code",
   "execution_count": null,
   "metadata": {},
   "outputs": [],
   "source": [
    "#y-displacement\n",
    "ey_new_grid = griddata(XY, Ey, (grid_y, grid_x), method='cubic')\n",
    "ey_new_grid = ey_new_grid.T\n",
    "ey_new_grid[invalid_y, invalid_x] = NaN\n",
    "#\n",
    "plt.imshow(F[600:1900, 1200:1600], cmap = 'gray')\n",
    "plt.imshow(ey_new_grid, cmap = 'jet', aspect = '1')\n",
    "#plt.colorbar(location = 'bottom', shrink = 0.4, ticks = [-0.155, -0.085, -0.01]).set_label('mm')\n",
    "plt.axis('off')\n",
    "cbar = plt.colorbar(location = 'bottom', shrink = 0.15, pad = 0.05)\n",
    "cbar.set_ticks([np.round(np.min(Ey), decimals = 3), np.round(np.max(Ey), decimals = 3)])\n",
    "\n",
    "plt.tight_layout()\n",
    "#plt.savefig('ey_contour.pdf', bbox_inches='tight',pad_inches = 0.01)\n",
    "plt.show()"
   ]
  },
  {
   "cell_type": "code",
   "execution_count": null,
   "metadata": {},
   "outputs": [],
   "source": [
    "#linecut\n",
    "fig, axs = plt.subplots()\n",
    "fig.tight_layout()\n",
    "axs.plot(y_line, Ey[line_indices])\n",
    "axs.set_ylabel('$\\epsilon_{yy}$ (-)')\n",
    "axs.set_xlabel('\\nY (pixels)')\n",
    "axs.legend('eyy strain (Green-Lagrange)')\n",
    "axs.grid()\n",
    "plt.show()"
   ]
  }
 ],
 "metadata": {
  "kernelspec": {
   "display_name": "Python 3.10.8 ('dic')",
   "language": "python",
   "name": "python3"
  },
  "language_info": {
   "codemirror_mode": {
    "name": "ipython",
    "version": 3
   },
   "file_extension": ".py",
   "mimetype": "text/x-python",
   "name": "python",
   "nbconvert_exporter": "python",
   "pygments_lexer": "ipython3",
   "version": "3.11.5"
  },
  "orig_nbformat": 4,
  "vscode": {
   "interpreter": {
    "hash": "313924a0b3e97c3dde199a6c41b012002e816bcb06c1d30538c9da57affd69bd"
   }
  }
 },
 "nbformat": 4,
 "nbformat_minor": 2
}
