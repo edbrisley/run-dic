{
 "cells": [
  {
   "cell_type": "code",
   "execution_count": 1,
   "metadata": {},
   "outputs": [],
   "source": [
    "#     IMPORT MODULES\n",
    "## ------------------------------------------------------------------------\n",
    "\n",
    "import dic\n",
    "import numpy as np\n",
    "import matplotlib.pyplot as plt\n",
    "import math\n",
    "import importlib\n",
    "import sys  \n",
    "import copy\n",
    "import scipy as sp\n",
    "import csv\n",
    "import cv2 as cv\n",
    "from scipy.linalg import solve\n",
    "import os\n",
    "from configparser import ConfigParser\n",
    "import scipy.interpolate\n",
    "import time\n",
    "import pandas as pd\n",
    "import warnings\n",
    "warnings.simplefilter(action='ignore', category=FutureWarning)\n",
    "import skimage as sk\n",
    "from skimage import data\n",
    "from skimage import transform as tf\n",
    "from skimage.feature import (match_descriptors, corner_harris,\n",
    "                             corner_peaks, ORB, plot_matches)\n",
    "from skimage.color import rgb2gray\n",
    "import statsmodels.api as sm\n",
    "import patsy as ps\n",
    "from patsy import dmatrices\n",
    "from patsy import dmatrix\n",
    "from numpy import loadtxt\n"
   ]
  },
  {
   "cell_type": "code",
   "execution_count": 2,
   "metadata": {},
   "outputs": [
    {
     "name": "stdout",
     "output_type": "stream",
     "text": [
      "---------------------------------------------------------------------------------------------------------------------------------\n",
      "Image dimensions: 200 X 200 pixels\n",
      "---------------------------------------------------------------------------------------------------------------------------------\n",
      "Subset Size :  81\n",
      "Subset Frequency :  5\n",
      "Gaussian Filter Standard Deviation :  0.5\n",
      "Gaussian Filter Size :  5\n",
      "Shape Function/Warp Function: Affine transformation\n",
      "Correlation Reference Strategy : Absolute reference strategy (the first image is the reference for all correlation runs)\n",
      "Calibration : No\n",
      "Setup variabales:  10 \n",
      " [ 81.    1.    0.5   5.    0.    5.  200.  200.    0.    0. ]\n",
      "--------------------------------------------------------------------------------------------------------------------------------- \n",
      "\n"
     ]
    }
   ],
   "source": [
    "#     SETUP SECTION\n",
    "# ------------------------------------------------------------------------\n",
    "# \n",
    "# Read/parse DIC setup parameters from settings file\n",
    "configur = ConfigParser()\n",
    "configur.read('Setup.ini')\n",
    "sub_size = configur.getint('Subsets','SubsetSize')\n",
    "sub_frequency = configur.getint('Subsets','SubsetFrequency')\n",
    "GF_stddev = configur.getfloat('Filters','GaussianFilterStdDev')\n",
    "GF_filtsize = configur.getint('Filters','GaussianFilterSize')\n",
    "SF_order = configur.getint('Miscellaneous','ShapeFunctionOrder')\n",
    "corr_refstrat = configur.getint('Miscellaneous','CorrelationReferenceStrategy')\n",
    "calibrate = configur.getint('Miscellaneous','Calibration')\n",
    "#store setup parameters\n",
    "setup = np.array([])\n",
    "setup = np.append(setup,sub_size)\n",
    "setup = np.append(setup,SF_order)\n",
    "setup = np.append(setup,GF_stddev)\n",
    "setup = np.append(setup,GF_filtsize)\n",
    "setup = np.append(setup,corr_refstrat)\n",
    "setup = np.append(setup,sub_frequency)\n",
    "#define images working directory\n",
    "current_working_directory = os.getcwd()\n",
    "folder = '\\images'\n",
    "image_location = current_working_directory + folder\n",
    "##read and store images\n",
    "print('---------------------------------------------------------------------------------------------------------------------------------')\n",
    "N_images = 0\n",
    "for filename in os.listdir(image_location):    \n",
    "    #exec(f'img_{N_images} = cv.imread(filename,0)')\n",
    "    #print('Image',N_images,':',filename)\n",
    "    N_images = N_images + 1\n",
    "F  =  cv.imread('star1_ref.tif',0)\n",
    "F = cv.normalize(F.astype('double'), None, 0.0, 1.0, cv.NORM_MINMAX)\n",
    "G = F[152:352,305:505]\n",
    "F = F[150:350,300:500]\n",
    "img_rows = F.shape[0]\n",
    "img_columns = F.shape[1]\n",
    "setup = np.append(setup,img_rows)\n",
    "setup = np.append(setup,img_columns)\n",
    "setup = np.append(setup,corr_refstrat)\n",
    "setup = np.append(setup,calibrate)\n",
    "print('Image dimensions:',img_rows,'X',img_columns,'pixels')\n",
    "#display setup parameters\n",
    "print('---------------------------------------------------------------------------------------------------------------------------------')\n",
    "print (\"Subset Size : \", sub_size)\n",
    "print (\"Subset Frequency : \", sub_frequency)\n",
    "print (\"Gaussian Filter Standard Deviation : \", GF_stddev)\n",
    "print (\"Gaussian Filter Size : \", GF_filtsize)\n",
    "if SF_order == 1:\n",
    "    print (\"Shape Function/Warp Function: Affine transformation\")\n",
    "if corr_refstrat ==0:\n",
    "    print(\"Correlation Reference Strategy : Absolute reference strategy (the first image is the reference for all correlation runs)\")\n",
    "elif corr_refstrat == 1:\n",
    "    print(\"Correlation Reference Strategy : Incremental reference strategy (the preceding image is the reference image for current correlation run)\")\n",
    "if calibrate==0:\n",
    "    print(\"Calibration : No\")\n",
    "elif calibrate == 1:\n",
    "        print(\"Calibration : Yes\")\n",
    "print('Setup variabales: ',setup.shape[0],'\\n',setup)\n",
    "print('---------------------------------------------------------------------------------------------------------------------------------','\\n')"
   ]
  },
  {
   "cell_type": "code",
   "execution_count": 4,
   "metadata": {},
   "outputs": [
    {
     "ename": "IndexError",
     "evalue": "index 0 is out of bounds for axis 0 with size 0",
     "output_type": "error",
     "traceback": [
      "\u001b[1;31m---------------------------------------------------------------------------\u001b[0m",
      "\u001b[1;31mIndexError\u001b[0m                                Traceback (most recent call last)",
      "\u001b[1;32mc:\\Users\\ed\\Documents\\VSCode\\Code\\NEW_UPTODATE\\all_subsets.ipynb Cell 3\u001b[0m in \u001b[0;36m<cell line: 3>\u001b[1;34m()\u001b[0m\n\u001b[0;32m      <a href='vscode-notebook-cell:/c%3A/Users/ed/Documents/VSCode/Code/NEW_UPTODATE/all_subsets.ipynb#ch0000002?line=0'>1</a>\u001b[0m \u001b[39m# processed in MATLAB: import images, normalise images, compute image gradients\u001b[39;00m\n\u001b[0;32m      <a href='vscode-notebook-cell:/c%3A/Users/ed/Documents/VSCode/Code/NEW_UPTODATE/all_subsets.ipynb#ch0000002?line=1'>2</a>\u001b[0m image_gradient_xy \u001b[39m=\u001b[39m np\u001b[39m.\u001b[39marray(np\u001b[39m.\u001b[39mgradient(F),dtype\u001b[39m=\u001b[39m\u001b[39mfloat\u001b[39m)\n\u001b[1;32m----> <a href='vscode-notebook-cell:/c%3A/Users/ed/Documents/VSCode/Code/NEW_UPTODATE/all_subsets.ipynb#ch0000002?line=2'>3</a>\u001b[0m Fy \u001b[39m=\u001b[39m image_gradient_xy[\u001b[39m0\u001b[39;49m]\n\u001b[0;32m      <a href='vscode-notebook-cell:/c%3A/Users/ed/Documents/VSCode/Code/NEW_UPTODATE/all_subsets.ipynb#ch0000002?line=3'>4</a>\u001b[0m Fx \u001b[39m=\u001b[39m image_gradient_xy[\u001b[39m1\u001b[39m]\n\u001b[0;32m      <a href='vscode-notebook-cell:/c%3A/Users/ed/Documents/VSCode/Code/NEW_UPTODATE/all_subsets.ipynb#ch0000002?line=4'>5</a>\u001b[0m Fy \u001b[39m=\u001b[39m Fy\u001b[39m/\u001b[39m\u001b[39m6\u001b[39m\n",
      "\u001b[1;31mIndexError\u001b[0m: index 0 is out of bounds for axis 0 with size 0"
     ]
    }
   ],
   "source": [
    "# processed in MATLAB: import images, normalise images, compute image gradients\n",
    "image_gradient_xy = np.array(np.gradient(F),dtype=float)\n",
    "Fy = image_gradient_xy[0]\n",
    "Fx = image_gradient_xy[1]\n",
    "Fy = Fy/6\n",
    "Fx = Fx/6\n",
    "\n",
    "#\n",
    "G = dic.DeformedImage(G,setup)\n",
    "F = dic.ReferenceImage(F,setup)\n",
    "F.F_grady = Fy\n",
    "F.F_gradx = Fx\n",
    "G.sub_centres[0,:] = F.sub_centres[0,:] + np.round(F.P[0,:])\n",
    "G.sub_centres[1,:] = F.sub_centres[1,:] + np.round(F.P[3,:])\n",
    "G.P[0,:], G.P[3,:] = dic.EstimateDisplacementsFourier(F,G)\n",
    "print(F.x)\n",
    "print(F.y)\n",
    "\n",
    "\n",
    "\n",
    "\n"
   ]
  },
  {
   "cell_type": "code",
   "execution_count": null,
   "metadata": {},
   "outputs": [
    {
     "name": "stdout",
     "output_type": "stream",
     "text": [
      "[-5. -5. -5. -5. -5. -5. -5. -5. -5. -5. -5. -5. -5. -5. -5. -5. -5. -5.\n",
      " -5. -5. -5. -5. -5. -5. -5. -5. -5. -5. -5. -5. -5. -5. -5. -5. -5. -5.\n",
      " -5. -5. -5. -5. -5. -5. -5. -5. -5. -5. -5. -5. -5. -5. -5. -5. -5. -5.\n",
      " -5. -5. -5. -5. -5. -5. -5. -5. -5. -5. -5. -5. -5. -5. -5. -5. -5. -5.\n",
      " -5. -5. -5. -5. -5. -5. -5. -5. -5. -5. -5. -5. -5. -5. -5. -5. -5. -5.\n",
      " -5. -5. -5. -5. -5. -5. -5. -5. -5. -5. -5. -5. -5. -5. -5. -5. -5. -5.\n",
      " -5. -5. -5. -5. -5. -5. -5. -5. -5. -5. -5. -5. -5. -5. -5. -5. -5. -5.\n",
      " -5. -5. -5. -5. -5. -5. -5. -5. -5. -5. -5. -5. -5. -5. -5. -5. -5. -5.\n",
      " -5. -5. -5. -5. -5. -5. -5. -5. -5. -5. -5. -5. -5. -5. -5. -5. -5. -5.\n",
      " -5. -5. -5. -5. -5. -5. -5. -5. -5. -5. -5. -5. -5. -5. -5. -5. -5. -5.\n",
      " -5. -5. -5. -5. -5. -5. -5. -5. -5. -5. -5. -5. -5. -5. -5. -5. -5. -5.\n",
      " -5. -5. -5. -5. -5. -5. -5. -5. -5. -5. -5. -5. -5. -5. -5. -5. -5. -5.\n",
      " -5. -5. -5. -5. -5. -5. -5. -5. -5. -5. -5. -5. -5. -5. -5. -5. -5. -5.\n",
      " -5. -5. -5. -5. -5. -5. -5. -5. -5. -5. -5. -5. -5. -5. -5. -5. -5. -5.\n",
      " -5. -5. -5. -5. -5. -5. -5. -5. -5. -5. -5. -5. -5. -5. -5. -5. -5. -5.\n",
      " -5. -5. -5. -5. -5. -5. -5. -5. -5. -5. -5. -5. -5. -5. -5. -5. -5. -5.\n",
      " -5. -5. -5. -5. -5. -5. -5. -5. -5. -5. -5. -5. -5. -5. -5. -5. -5. -5.\n",
      " -5. -5. -5. -5. -5. -5. -5. -5. -5. -5. -5. -5. -5. -5. -5. -5. -5. -5.\n",
      " -5. -5. -5. -5. -5. -5. -5. -5. -5. -5. -5. -5. -5. -5. -5. -5. -5. -5.\n",
      " -5. -5. -5. -5. -5. -5. -5. -5. -5. -5. -5. -5. -5. -5. -5. -5. -5. -5.\n",
      " -5. -5. -5. -5. -5. -5. -5. -5. -5. -5. -5. -5. -5. -5. -5. -5. -5. -5.\n",
      " -5. -5. -5. -5. -5. -5. -5. -5. -5. -5. -5. -5. -5. -5. -5. -5. -5. -5.\n",
      " -5. -5. -5. -5. -5. -5. -5. -5. -5. -5. -5. -5. -5. -5. -5. -5. -5. -5.\n",
      " -5. -5. -5. -5. -5. -5. -5. -5. -5. -5. -5. -5. -5. -5. -5. -5. -5. -5.\n",
      " -5. -5. -5. -5. -5. -5. -5. -5. -5. -5. -5. -5. -5. -5. -5. -5. -5. -5.\n",
      " -5. -5. -5. -5. -5. -5. -5. -5. -5. -5. -5. -5. -5. -5. -5. -5. -5. -5.\n",
      " -5. -5. -5. -5. -5. -5. -5. -5. -5. -5. -5. -5. -5. -5. -5. -5. -5. -5.\n",
      " -5. -5. -5. -5. -5. -5. -5. -5. -5. -5. -5. -5. -5. -5. -5. -5. -5. -5.\n",
      " -5. -5. -5. -5. -5. -5. -5. -5. -5. -5. -5. -5. -5. -5. -5. -5. -5. -5.\n",
      " -5. -5. -5. -5. -5. -5. -5.]\n"
     ]
    }
   ],
   "source": [
    "print(G.P[0,:])"
   ]
  },
  {
   "cell_type": "code",
   "execution_count": null,
   "metadata": {},
   "outputs": [
    {
     "name": "stdout",
     "output_type": "stream",
     "text": [
      "[-2. -2. -2. -2. -2. -2. -2. -2. -2. -2. -2. -2. -2. -2. -2. -2. -2. -2.\n",
      " -2. -2. -2. -2. -2. -2. -2. -2. -2. -2. -2. -2. -2. -2. -2. -2. -2. -2.\n",
      " -2. -2. -2. -2. -2. -2. -2. -2. -2. -2. -2. -2. -2. -2. -2. -2. -2. -2.\n",
      " -2. -2. -2. -2. -2. -2. -2. -2. -2. -2. -2. -2. -2. -2. -2. -2. -2. -2.\n",
      " -2. -2. -2. -2. -2. -2. -2. -2. -2. -2. -2. -2. -2. -2. -2. -2. -2. -2.\n",
      " -2. -2. -2. -2. -2. -2. -2. -2. -2. -2. -2. -2. -2. -2. -2. -2. -2. -2.\n",
      " -2. -2. -2. -2. -2. -2. -2. -2. -2. -2. -2. -2. -2. -2. -2. -2. -2. -2.\n",
      " -2. -2. -2. -2. -2. -2. -2. -2. -2. -2. -2. -2. -2. -2. -2. -2. -2. -2.\n",
      " -2. -2. -2. -2. -2. -2. -2. -2. -2. -2. -2. -2. -2. -2. -2. -2. -2. -2.\n",
      " -2. -2. -2. -2. -2. -2. -2. -2. -2. -2. -2. -2. -2. -2. -2. -2. -2. -2.\n",
      " -2. -2. -2. -2. -2. -2. -2. -2. -2. -2. -2. -2. -2. -2. -2. -2. -2. -2.\n",
      " -2. -2. -2. -2. -2. -2. -2. -2. -2. -2. -2. -2. -2. -2. -2. -2. -2. -2.\n",
      " -2. -2. -2. -2. -2. -2. -2. -2. -2. -2. -2. -2. -2. -2. -2. -2. -2. -2.\n",
      " -2. -2. -2. -2. -2. -2. -2. -2. -2. -2. -2. -2. -2. -2. -2. -2. -2. -2.\n",
      " -2. -2. -2. -2. -2. -2. -2. -2. -2. -2. -2. -2. -2. -2. -2. -2. -2. -2.\n",
      " -2. -2. -2. -2. -2. -2. -2. -2. -2. -2. -2. -2. -2. -2. -2. -2. -2. -2.\n",
      " -2. -2. -2. -2. -2. -2. -2. -2. -2. -2. -2. -2. -2. -2. -2. -2. -2. -2.\n",
      " -2. -2. -2. -2. -2. -2. -2. -2. -2. -2. -2. -2. -2. -2. -2. -2. -2. -2.\n",
      " -2. -2. -2. -2. -2. -2. -2. -2. -2. -2. -2. -2. -2. -2. -2. -2. -2. -2.\n",
      " -2. -2. -2. -2. -2. -2. -2. -2. -2. -2. -2. -2. -2. -2. -2. -2. -2. -2.\n",
      " -2. -2. -2. -2. -2. -2. -2. -2. -2. -2. -2. -2. -2. -2. -2. -2. -2. -2.\n",
      " -2. -2. -2. -2. -2. -2. -2. -2. -2. -2. -2. -2. -2. -2. -2. -2. -2. -2.\n",
      " -2. -2. -2. -2. -2. -2. -2. -2. -2. -2. -2. -2. -2. -2. -2. -2. -2. -2.\n",
      " -2. -2. -2. -2. -2. -2. -2. -2. -2. -2. -2. -2. -2. -2. -2. -2. -2. -2.\n",
      " -2. -2. -2. -2. -2. -2. -2. -2. -2. -2. -2. -2. -2. -2. -2. -2. -2. -2.\n",
      " -2. -2. -2. -2. -2. -2. -2. -2. -2. -2. -2. -2. -2. -2. -2. -2. -2. -2.\n",
      " -2. -2. -2. -2. -2. -2. -2. -2. -2. -2. -2. -2. -2. -2. -2. -2. -2. -2.\n",
      " -2. -2. -2. -2. -2. -2. -2. -2. -2. -2. -2. -2. -2. -2. -2. -2. -2. -2.\n",
      " -2. -2. -2. -2. -2. -2. -2. -2. -2. -2. -2. -2. -2. -2. -2. -2. -2. -2.\n",
      " -2. -2. -2. -2. -2. -2. -2.]\n"
     ]
    }
   ],
   "source": [
    "print(G.P[3,:])"
   ]
  },
  {
   "cell_type": "code",
   "execution_count": null,
   "metadata": {},
   "outputs": [
    {
     "name": "stdout",
     "output_type": "stream",
     "text": [
      "u0, v0: Initial estimate of displacments:\n",
      "-5.0 -2.0\n",
      "G.P, Initial shape function parameters\n",
      "[-5.  0.  0. -2.  0.  0.]\n"
     ]
    },
    {
     "ename": "KeyboardInterrupt",
     "evalue": "",
     "output_type": "error",
     "traceback": [
      "\u001b[1;31m---------------------------------------------------------------------------\u001b[0m",
      "\u001b[1;31mKeyboardInterrupt\u001b[0m                         Traceback (most recent call last)",
      "\u001b[1;32mc:\\Users\\ed\\Documents\\VSCode\\Code\\NEW_UPTODATE\\all_subsets.ipynb Cell 6\u001b[0m in \u001b[0;36m<cell line: 9>\u001b[1;34m()\u001b[0m\n\u001b[0;32m     <a href='vscode-notebook-cell:/c%3A/Users/ed/Documents/VSCode/Code/NEW_UPTODATE/all_subsets.ipynb#ch0000003?line=16'>17</a>\u001b[0m deformed_subset \u001b[39m=\u001b[39m dic\u001b[39m.\u001b[39mAffineTrans(G,i)\n\u001b[0;32m     <a href='vscode-notebook-cell:/c%3A/Users/ed/Documents/VSCode/Code/NEW_UPTODATE/all_subsets.ipynb#ch0000003?line=17'>18</a>\u001b[0m \u001b[39m#extract subset from interpolated G\u001b[39;00m\n\u001b[1;32m---> <a href='vscode-notebook-cell:/c%3A/Users/ed/Documents/VSCode/Code/NEW_UPTODATE/all_subsets.ipynb#ch0000003?line=18'>19</a>\u001b[0m g, g_mean, g_tilde \u001b[39m=\u001b[39m dic\u001b[39m.\u001b[39;49mDefSubsetInfo(G, deformed_subset, i)\n\u001b[0;32m     <a href='vscode-notebook-cell:/c%3A/Users/ed/Documents/VSCode/Code/NEW_UPTODATE/all_subsets.ipynb#ch0000003?line=19'>20</a>\u001b[0m stop_val \u001b[39m=\u001b[39m dic\u001b[39m.\u001b[39mStopCriteria(deltaP, \u001b[39m0.5\u001b[39m\u001b[39m*\u001b[39m(G\u001b[39m.\u001b[39msub_size\u001b[39m-\u001b[39m\u001b[39m1\u001b[39m))\n\u001b[0;32m     <a href='vscode-notebook-cell:/c%3A/Users/ed/Documents/VSCode/Code/NEW_UPTODATE/all_subsets.ipynb#ch0000003?line=20'>21</a>\u001b[0m \u001b[39mif\u001b[39;00m stop_val \u001b[39m<\u001b[39m \u001b[39m1e-4\u001b[39m:\n\u001b[0;32m     <a href='vscode-notebook-cell:/c%3A/Users/ed/Documents/VSCode/Code/NEW_UPTODATE/all_subsets.ipynb#ch0000003?line=21'>22</a>\u001b[0m     \u001b[39m#Zero-Mean Normalised Cross Correlation Criteria\u001b[39;00m\n",
      "File \u001b[1;32mc:\\Users\\ed\\Documents\\VSCode\\Code\\NEW_UPTODATE\\dic.py:167\u001b[0m, in \u001b[0;36mDefSubsetInfo\u001b[1;34m(G, deformed_subset, i)\u001b[0m\n\u001b[0;32m    165\u001b[0m g \u001b[39m=\u001b[39m np\u001b[39m.\u001b[39mzeros([N_points,\u001b[39m1\u001b[39m])\n\u001b[0;32m    166\u001b[0m \u001b[39mfor\u001b[39;00m m \u001b[39min\u001b[39;00m \u001b[39mrange\u001b[39m(\u001b[39m0\u001b[39m,N_points):\n\u001b[1;32m--> 167\u001b[0m     g[m] \u001b[39m=\u001b[39m G\u001b[39m.\u001b[39;49mG_interp_coeff(np\u001b[39m.\u001b[39;49marray([y[m],x[m]]))\n\u001b[0;32m    168\u001b[0m g_mean \u001b[39m=\u001b[39m g\u001b[39m.\u001b[39mmean()\n\u001b[0;32m    169\u001b[0m g_tilde \u001b[39m=\u001b[39m np\u001b[39m.\u001b[39msqrt(np\u001b[39m.\u001b[39msum((g[:]\u001b[39m-\u001b[39mg_mean)\u001b[39m*\u001b[39m\u001b[39m*\u001b[39m\u001b[39m2\u001b[39m))\n",
      "File \u001b[1;32mc:\\Users\\ed\\.conda\\envs\\envtest\\lib\\site-packages\\scipy\\interpolate\\interpolate.py:2520\u001b[0m, in \u001b[0;36mRegularGridInterpolator.__call__\u001b[1;34m(self, xi, method)\u001b[0m\n\u001b[0;32m   2515\u001b[0m         \u001b[39mif\u001b[39;00m \u001b[39mnot\u001b[39;00m np\u001b[39m.\u001b[39mlogical_and(np\u001b[39m.\u001b[39mall(\u001b[39mself\u001b[39m\u001b[39m.\u001b[39mgrid[i][\u001b[39m0\u001b[39m] \u001b[39m<\u001b[39m\u001b[39m=\u001b[39m p),\n\u001b[0;32m   2516\u001b[0m                               np\u001b[39m.\u001b[39mall(p \u001b[39m<\u001b[39m\u001b[39m=\u001b[39m \u001b[39mself\u001b[39m\u001b[39m.\u001b[39mgrid[i][\u001b[39m-\u001b[39m\u001b[39m1\u001b[39m])):\n\u001b[0;32m   2517\u001b[0m             \u001b[39mraise\u001b[39;00m \u001b[39mValueError\u001b[39;00m(\u001b[39m\"\u001b[39m\u001b[39mOne of the requested xi is out of bounds \u001b[39m\u001b[39m\"\u001b[39m\n\u001b[0;32m   2518\u001b[0m                              \u001b[39m\"\u001b[39m\u001b[39min dimension \u001b[39m\u001b[39m%d\u001b[39;00m\u001b[39m\"\u001b[39m \u001b[39m%\u001b[39m i)\n\u001b[1;32m-> 2520\u001b[0m indices, norm_distances, out_of_bounds \u001b[39m=\u001b[39m \u001b[39mself\u001b[39;49m\u001b[39m.\u001b[39;49m_find_indices(xi\u001b[39m.\u001b[39;49mT)\n\u001b[0;32m   2521\u001b[0m \u001b[39mif\u001b[39;00m method \u001b[39m==\u001b[39m \u001b[39m\"\u001b[39m\u001b[39mlinear\u001b[39m\u001b[39m\"\u001b[39m:\n\u001b[0;32m   2522\u001b[0m     result \u001b[39m=\u001b[39m \u001b[39mself\u001b[39m\u001b[39m.\u001b[39m_evaluate_linear(indices,\n\u001b[0;32m   2523\u001b[0m                                    norm_distances,\n\u001b[0;32m   2524\u001b[0m                                    out_of_bounds)\n",
      "File \u001b[1;32mc:\\Users\\ed\\.conda\\envs\\envtest\\lib\\site-packages\\scipy\\interpolate\\interpolate.py:2563\u001b[0m, in \u001b[0;36mRegularGridInterpolator._find_indices\u001b[1;34m(self, xi)\u001b[0m\n\u001b[0;32m   2561\u001b[0m \u001b[39m# iterate through dimensions\u001b[39;00m\n\u001b[0;32m   2562\u001b[0m \u001b[39mfor\u001b[39;00m x, grid \u001b[39min\u001b[39;00m \u001b[39mzip\u001b[39m(xi, \u001b[39mself\u001b[39m\u001b[39m.\u001b[39mgrid):\n\u001b[1;32m-> 2563\u001b[0m     i \u001b[39m=\u001b[39m np\u001b[39m.\u001b[39;49msearchsorted(grid, x) \u001b[39m-\u001b[39m \u001b[39m1\u001b[39m\n\u001b[0;32m   2564\u001b[0m     i[i \u001b[39m<\u001b[39m \u001b[39m0\u001b[39m] \u001b[39m=\u001b[39m \u001b[39m0\u001b[39m\n\u001b[0;32m   2565\u001b[0m     i[i \u001b[39m>\u001b[39m grid\u001b[39m.\u001b[39msize \u001b[39m-\u001b[39m \u001b[39m2\u001b[39m] \u001b[39m=\u001b[39m grid\u001b[39m.\u001b[39msize \u001b[39m-\u001b[39m \u001b[39m2\u001b[39m\n",
      "File \u001b[1;32m<__array_function__ internals>:5\u001b[0m, in \u001b[0;36msearchsorted\u001b[1;34m(*args, **kwargs)\u001b[0m\n",
      "File \u001b[1;32mc:\\Users\\ed\\.conda\\envs\\envtest\\lib\\site-packages\\numpy\\core\\fromnumeric.py:1350\u001b[0m, in \u001b[0;36msearchsorted\u001b[1;34m(a, v, side, sorter)\u001b[0m\n\u001b[0;32m   1283\u001b[0m \u001b[39m@array_function_dispatch\u001b[39m(_searchsorted_dispatcher)\n\u001b[0;32m   1284\u001b[0m \u001b[39mdef\u001b[39;00m \u001b[39msearchsorted\u001b[39m(a, v, side\u001b[39m=\u001b[39m\u001b[39m'\u001b[39m\u001b[39mleft\u001b[39m\u001b[39m'\u001b[39m, sorter\u001b[39m=\u001b[39m\u001b[39mNone\u001b[39;00m):\n\u001b[0;32m   1285\u001b[0m     \u001b[39m\"\"\"\u001b[39;00m\n\u001b[0;32m   1286\u001b[0m \u001b[39m    Find indices where elements should be inserted to maintain order.\u001b[39;00m\n\u001b[0;32m   1287\u001b[0m \n\u001b[1;32m   (...)\u001b[0m\n\u001b[0;32m   1348\u001b[0m \n\u001b[0;32m   1349\u001b[0m \u001b[39m    \"\"\"\u001b[39;00m\n\u001b[1;32m-> 1350\u001b[0m     \u001b[39mreturn\u001b[39;00m _wrapfunc(a, \u001b[39m'\u001b[39;49m\u001b[39msearchsorted\u001b[39;49m\u001b[39m'\u001b[39;49m, v, side\u001b[39m=\u001b[39;49mside, sorter\u001b[39m=\u001b[39;49msorter)\n",
      "File \u001b[1;32mc:\\Users\\ed\\.conda\\envs\\envtest\\lib\\site-packages\\numpy\\core\\fromnumeric.py:57\u001b[0m, in \u001b[0;36m_wrapfunc\u001b[1;34m(obj, method, *args, **kwds)\u001b[0m\n\u001b[0;32m     54\u001b[0m     \u001b[39mreturn\u001b[39;00m _wrapit(obj, method, \u001b[39m*\u001b[39margs, \u001b[39m*\u001b[39m\u001b[39m*\u001b[39mkwds)\n\u001b[0;32m     56\u001b[0m \u001b[39mtry\u001b[39;00m:\n\u001b[1;32m---> 57\u001b[0m     \u001b[39mreturn\u001b[39;00m bound(\u001b[39m*\u001b[39margs, \u001b[39m*\u001b[39m\u001b[39m*\u001b[39mkwds)\n\u001b[0;32m     58\u001b[0m \u001b[39mexcept\u001b[39;00m \u001b[39mTypeError\u001b[39;00m:\n\u001b[0;32m     59\u001b[0m     \u001b[39m# A TypeError occurs if the object does have such a method in its\u001b[39;00m\n\u001b[0;32m     60\u001b[0m     \u001b[39m# class, but its signature is not identical to that of NumPy's. This\u001b[39;00m\n\u001b[1;32m   (...)\u001b[0m\n\u001b[0;32m     64\u001b[0m     \u001b[39m# Call _wrapit from within the except clause to ensure a potential\u001b[39;00m\n\u001b[0;32m     65\u001b[0m     \u001b[39m# exception has a traceback chain.\u001b[39;00m\n\u001b[0;32m     66\u001b[0m     \u001b[39mreturn\u001b[39;00m _wrapit(obj, method, \u001b[39m*\u001b[39margs, \u001b[39m*\u001b[39m\u001b[39m*\u001b[39mkwds)\n",
      "\u001b[1;31mKeyboardInterrupt\u001b[0m: "
     ]
    }
   ],
   "source": [
    "## G.P[0,0], G.P[3,0], coeff = EstimateDisplacements(F, G, 0, sub_size)\n",
    "#print(coeff)\n",
    "print('u0, v0: Initial estimate of displacments:')\n",
    "print(G.P[0,0], G.P[3,0])\n",
    "print('G.P, Initial shape function parameters')\n",
    "print(G.P[:,0])\n",
    "#perform correlation on first subset\n",
    "N_subsets = F.sub_centres.shape[1]\n",
    "for i in range(0,N_subsets):\n",
    "#extract subset from F\n",
    "    f, f_mean, f_tilde, dfdx, dfdy  = dic.RefSubsetInfo(F,i)\n",
    "    Hess, fgrad_X_dWdP = dic.Hessian(dfdx, dfdy, F)\n",
    "    deltaP =  np.ones([6,1])\n",
    "    itera = 0\n",
    "    while itera < 100:\n",
    "        #deform square subset with linear transformation based on current estimation of warp function parameters (u   ux  uy  v   vx  vy)\n",
    "        deformed_subset = dic.AffineTrans(G,i)\n",
    "        #extract subset from interpolated G\n",
    "        g, g_mean, g_tilde = dic.DefSubsetInfo(G, deformed_subset, i)\n",
    "        stop_val = dic.StopCriteria(deltaP, 0.5*(G.sub_size-1))\n",
    "        if stop_val < 1e-4:\n",
    "            #Zero-Mean Normalised Cross Correlation Criteria\n",
    "            G.corr_coeff[0,i] = 1 - sum(((f[:]-f_mean)/f_tilde-(g[:]-g_mean)/g_tilde)**2)/2\n",
    "            G.stop_val[0,i] = stop_val\n",
    "            G.iterations[0,i]  = itera\n",
    "            break\n",
    "        else:\n",
    "            Jacobian = np.dot(fgrad_X_dWdP.T, (f[:]-f_mean-f_tilde/g_tilde*(g[:]-g_mean)))\n",
    "            deltaP = np.linalg.solve(-Hess, Jacobian) #-1*np.linalg.inv(Hess)*Jacobian.T\n",
    "            Pupdate = dic.UpdateSFP(G.P[:,i], deltaP)\n",
    "            G.P[:,i:i+1] = Pupdate\n",
    "        itera = itera + 1\n",
    "    \n",
    "print(itera, ' iteration complete')\n",
    "print(i+1, ' subsets out of ',N_subsets,' correlated')\n",
    "print('u, v: New G.P')\n",
    "print(G.P[:,0])"
   ]
  },
  {
   "cell_type": "code",
   "execution_count": null,
   "metadata": {},
   "outputs": [
    {
     "name": "stdout",
     "output_type": "stream",
     "text": [
      "realdisplacements: u0 = 5, v0 = -2\n",
      "\n",
      "150 th subset  1  iterations\n",
      "[[1. 1. 1. 1. 1. 1. 1. 1. 1. 1. 1. 1. 1. 1. 1. 1. 1. 1. 1. 1. 1. 1. 1. 1.\n",
      "  1. 1. 1. 1. 1. 1. 1. 1. 1. 1. 1. 1. 1. 1. 1. 1. 1. 1. 1. 1. 1. 1. 1. 1.\n",
      "  1. 1. 1. 1. 1. 1. 1. 1. 1. 1. 1. 1. 1. 1. 1. 1. 1. 1. 1. 1. 1. 1. 1. 1.\n",
      "  1. 1. 1. 1. 1. 1. 1. 1. 1. 1. 1. 1. 1. 1. 1. 1. 1. 1. 1. 1. 1. 1. 1. 1.\n",
      "  1. 1. 1. 1. 1. 1. 1. 1. 1. 1. 1. 1. 1. 1. 1. 1. 1. 1. 1. 1. 1. 1. 1. 1.\n",
      "  1. 1. 1. 1. 1. 1. 1. 1. 1. 1. 1. 1. 1. 1. 1. 1. 1. 1. 1. 1. 1. 1. 1. 1.\n",
      "  1. 1. 1. 1. 1. 0. 0. 0. 0. 0. 0. 0. 0. 0. 0. 0. 0. 0. 0. 0. 0. 0. 0. 0.\n",
      "  0. 0. 0. 0. 0. 0. 0. 0. 0. 0. 0. 0. 0. 0. 0. 0. 0. 0. 0. 0. 0. 0. 0. 0.\n",
      "  0. 0. 0. 0. 0. 0. 0. 0. 0. 0. 0. 0. 0. 0. 0. 0. 0. 0. 0. 0. 0. 0. 0. 0.\n",
      "  0. 0. 0. 0. 0. 0. 0. 0. 0. 0. 0. 0. 0. 0. 0. 0. 0. 0. 0. 0. 0. 0. 0. 0.\n",
      "  0. 0. 0. 0. 0. 0. 0. 0. 0. 0. 0. 0. 0. 0. 0. 0. 0. 0. 0. 0. 0. 0. 0. 0.\n",
      "  0. 0. 0. 0. 0. 0. 0. 0. 0. 0. 0. 0. 0. 0. 0. 0. 0. 0. 0. 0. 0. 0. 0. 0.\n",
      "  0. 0. 0. 0. 0. 0. 0. 0. 0. 0. 0. 0. 0. 0. 0. 0. 0. 0. 0. 0. 0. 0. 0. 0.\n",
      "  0. 0. 0. 0. 0. 0. 0. 0. 0. 0. 0. 0. 0. 0. 0. 0. 0. 0. 0. 0. 0. 0. 0. 0.\n",
      "  0. 0. 0. 0. 0. 0. 0. 0. 0. 0. 0. 0. 0. 0. 0. 0. 0. 0. 0. 0. 0. 0. 0. 0.\n",
      "  0. 0. 0. 0. 0. 0. 0. 0. 0. 0. 0. 0. 0. 0. 0. 0. 0. 0. 0. 0. 0. 0. 0. 0.\n",
      "  0. 0. 0. 0. 0. 0. 0. 0. 0. 0. 0. 0. 0. 0. 0. 0. 0. 0. 0. 0. 0. 0. 0. 0.\n",
      "  0. 0. 0. 0. 0. 0. 0. 0. 0. 0. 0. 0. 0. 0. 0. 0. 0. 0. 0. 0. 0. 0. 0. 0.\n",
      "  0. 0. 0. 0. 0. 0. 0. 0. 0. 0. 0. 0. 0. 0. 0. 0. 0. 0. 0. 0. 0. 0. 0. 0.\n",
      "  0. 0. 0. 0. 0. 0. 0. 0. 0. 0. 0. 0. 0. 0. 0. 0. 0. 0. 0. 0. 0. 0. 0. 0.\n",
      "  0. 0. 0. 0. 0. 0. 0. 0. 0. 0. 0. 0. 0. 0. 0. 0. 0. 0. 0. 0. 0. 0. 0. 0.\n",
      "  0. 0. 0. 0. 0. 0. 0. 0. 0. 0. 0. 0. 0. 0. 0. 0. 0. 0. 0. 0. 0. 0. 0. 0.\n",
      "  0.]]\n",
      "[-5.00000000e+00  0.00000000e+00 -2.27863299e-19 -2.00000000e+00\n",
      "  8.91244988e-19  0.00000000e+00]\n"
     ]
    }
   ],
   "source": [
    "print('realdisplacements: u0 = 5, v0 = -2\\n')\n",
    "print(i+1,'th subset ',itera,' iterations')\n",
    "print(G.iterations)\n",
    "print(G.P[:,i])\n",
    "\n"
   ]
  },
  {
   "cell_type": "code",
   "execution_count": null,
   "metadata": {},
   "outputs": [
    {
     "name": "stdout",
     "output_type": "stream",
     "text": [
      "Subset centres, row, column: 45 45\n",
      "[ 1.64805281  2.74883048  3.84960816 ... 90.41823038 91.51900806\n",
      " 92.61978573]\n"
     ]
    }
   ],
   "source": [
    "N_points = deformed_subset.shape[0]\n",
    "centerx, centery = np.array([G.sub_centres[0][i],G.sub_centres[1][i]])\n",
    "print('Subset centres, row, column:', centery, centerx)\n",
    "y = centery*np.ones(N_points) + deformed_subset[:,1]\n",
    "x = centerx*np.ones(N_points) + deformed_subset[:,0]\n",
    "\n",
    "print(y)\n",
    "\n",
    "\n"
   ]
  },
  {
   "cell_type": "code",
   "execution_count": null,
   "metadata": {},
   "outputs": [
    {
     "name": "stdout",
     "output_type": "stream",
     "text": [
      "[-2.35714866 -2.31586431 -2.27457996 ... 98.17892232 98.22020667\n",
      " 98.26149101]\n"
     ]
    }
   ],
   "source": [
    "print(x)"
   ]
  }
 ],
 "metadata": {
  "kernelspec": {
   "display_name": "Python 3.10.0 ('envtest')",
   "language": "python",
   "name": "python3"
  },
  "language_info": {
   "codemirror_mode": {
    "name": "ipython",
    "version": 3
   },
   "file_extension": ".py",
   "mimetype": "text/x-python",
   "name": "python",
   "nbconvert_exporter": "python",
   "pygments_lexer": "ipython3",
   "version": "3.10.0"
  },
  "orig_nbformat": 4,
  "vscode": {
   "interpreter": {
    "hash": "10da45e53b418cff61ea600499b3885d3466e2bef20d4502682e8e5aab9c2ee7"
   }
  }
 },
 "nbformat": 4,
 "nbformat_minor": 2
}
